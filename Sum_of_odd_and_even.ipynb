{
  "nbformat": 4,
  "nbformat_minor": 0,
  "metadata": {
    "colab": {
      "name": "Sum of odd and even.ipynb",
      "provenance": [],
      "authorship_tag": "ABX9TyPizyRGmJOFfqqKCCnoZJos",
      "include_colab_link": true
    },
    "kernelspec": {
      "name": "python3",
      "display_name": "Python 3"
    },
    "language_info": {
      "name": "python"
    }
  },
  "cells": [
    {
      "cell_type": "markdown",
      "metadata": {
        "id": "view-in-github",
        "colab_type": "text"
      },
      "source": [
        "<a href=\"https://colab.research.google.com/github/aashnijoshi/To/blob/main/Sum_of_odd_and_even.ipynb\" target=\"_parent\"><img src=\"https://colab.research.google.com/assets/colab-badge.svg\" alt=\"Open In Colab\"/></a>"
      ]
    },
    {
      "cell_type": "code",
      "execution_count": null,
      "metadata": {
        "id": "t3SHDQjnA0Cq"
      },
      "outputs": [],
      "source": [
        "#Finding sum of even and odd numbers from in the range of two numbers\n",
        "\n",
        "#Inputting limits\n",
        "p=int(input(print(\"Please enter lower limit\")))\n",
        "q=int(input(print(\"Please enter upper limit\")))\n",
        "\n",
        "#Assigning a 0 value to the variables that will store the sum\n",
        "even=0\n",
        "odd=0\n",
        "\n",
        "\n",
        "def oddpluseven(p,q):\n",
        "\n",
        "    global even\n",
        "    global odd\n",
        "    if p<=q:\n",
        "        if p%2==0:\n",
        "            even+=p\n",
        "        else:\n",
        "            odd+=p\n",
        "        oddpluseven(p+1,q)   #Calling the function inside the same function so thar it recurses until the final value\n",
        "    \n",
        "       \n",
        "  \n",
        "oddpluseven(p,q)    \n",
        "\n",
        "#Printing final values\n",
        "print(\"Even count is \",even)   \n",
        "print(\"Odd count is \",odd)     "
      ]
    }
  ]
}